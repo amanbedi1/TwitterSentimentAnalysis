{
 "cells": [
  {
   "cell_type": "code",
   "execution_count": 37,
   "metadata": {
    "execution": {
     "iopub.execute_input": "2021-05-21T11:33:41.241470Z",
     "iopub.status.busy": "2021-05-21T11:33:41.241042Z",
     "iopub.status.idle": "2021-05-21T11:33:41.250155Z",
     "shell.execute_reply": "2021-05-21T11:33:41.248939Z",
     "shell.execute_reply.started": "2021-05-21T11:33:41.241438Z"
    }
   },
   "outputs": [],
   "source": [
    "import pickle\n",
    "import re \n",
    "import string\n",
    "import pandas as pd\n",
    "import numpy as np\n",
    "import matplotlib.pyplot as plt   \n",
    "import seaborn as sns\n",
    "import nltk\n",
    "from nltk.corpus import stopwords \n",
    "from nltk.corpus import twitter_samples \n",
    "from nltk.stem import PorterStemmer \n",
    "from nltk.stem import WordNetLemmatizer\n",
    "from nltk.tokenize import TweetTokenizer  \n",
    "\n",
    "\n",
    "\n",
    "import sklearn\n",
    "from sklearn import metrics \n",
    "from sklearn.feature_extraction.text import CountVectorizer  \n",
    "from sklearn.feature_extraction.text import TfidfTransformer \n",
    "from sklearn.model_selection import train_test_split \n",
    "from sklearn.naive_bayes import MultinomialNB,ComplementNB,BernoulliNB  \n",
    "from sklearn.linear_model import LogisticRegression  \n",
    "from sklearn.metrics import confusion_matrix \n",
    "from xgboost import XGBClassifier \n",
    "\n",
    "\n",
    "import warnings \n",
    "\n",
    "warnings.filterwarnings(\"ignore\")"
   ]
  },
  {
   "cell_type": "code",
   "execution_count": null,
   "metadata": {},
   "outputs": [],
   "source": []
  },
  {
   "cell_type": "code",
   "execution_count": 38,
   "metadata": {
    "execution": {
     "iopub.execute_input": "2021-05-21T11:33:41.252868Z",
     "iopub.status.busy": "2021-05-21T11:33:41.252201Z",
     "iopub.status.idle": "2021-05-21T11:33:41.272116Z",
     "shell.execute_reply": "2021-05-21T11:33:41.271074Z",
     "shell.execute_reply.started": "2021-05-21T11:33:41.252818Z"
    }
   },
   "outputs": [
    {
     "name": "stdout",
     "output_type": "stream",
     "text": [
      "0.24.2\n"
     ]
    }
   ],
   "source": [
    "print(sklearn.__version__)"
   ]
  },
  {
   "cell_type": "markdown",
   "metadata": {},
   "source": [
    "# Importing Dataset"
   ]
  },
  {
   "cell_type": "code",
   "execution_count": 39,
   "metadata": {
    "execution": {
     "iopub.execute_input": "2021-05-21T11:33:41.273950Z",
     "iopub.status.busy": "2021-05-21T11:33:41.273657Z",
     "iopub.status.idle": "2021-05-21T11:33:41.524552Z",
     "shell.execute_reply": "2021-05-21T11:33:41.523630Z",
     "shell.execute_reply.started": "2021-05-21T11:33:41.273921Z"
    }
   },
   "outputs": [
    {
     "data": {
      "text/html": [
       "<div>\n",
       "<style scoped>\n",
       "    .dataframe tbody tr th:only-of-type {\n",
       "        vertical-align: middle;\n",
       "    }\n",
       "\n",
       "    .dataframe tbody tr th {\n",
       "        vertical-align: top;\n",
       "    }\n",
       "\n",
       "    .dataframe thead th {\n",
       "        text-align: right;\n",
       "    }\n",
       "</style>\n",
       "<table border=\"1\" class=\"dataframe\">\n",
       "  <thead>\n",
       "    <tr style=\"text-align: right;\">\n",
       "      <th></th>\n",
       "      <th>Unnamed: 0</th>\n",
       "      <th>sentiment</th>\n",
       "      <th>id</th>\n",
       "      <th>Date</th>\n",
       "      <th>Query</th>\n",
       "      <th>User</th>\n",
       "      <th>text</th>\n",
       "    </tr>\n",
       "  </thead>\n",
       "  <tbody>\n",
       "    <tr>\n",
       "      <th>0</th>\n",
       "      <td>0</td>\n",
       "      <td>4</td>\n",
       "      <td>2063289082</td>\n",
       "      <td>Sun Jun 07 02:04:01 PDT 2009</td>\n",
       "      <td>NO_QUERY</td>\n",
       "      <td>DeniseSD12</td>\n",
       "      <td>I'm home.   soo tired. NEED. SOME. REST. :|</td>\n",
       "    </tr>\n",
       "    <tr>\n",
       "      <th>1</th>\n",
       "      <td>1</td>\n",
       "      <td>4</td>\n",
       "      <td>1687530883</td>\n",
       "      <td>Sun May 03 08:56:33 PDT 2009</td>\n",
       "      <td>NO_QUERY</td>\n",
       "      <td>LadyHhugs</td>\n",
       "      <td>My breakfast... Lowfat blueberry muffin.. Peac...</td>\n",
       "    </tr>\n",
       "    <tr>\n",
       "      <th>2</th>\n",
       "      <td>2</td>\n",
       "      <td>0</td>\n",
       "      <td>2296933721</td>\n",
       "      <td>Tue Jun 23 09:49:08 PDT 2009</td>\n",
       "      <td>NO_QUERY</td>\n",
       "      <td>Akalyah</td>\n",
       "      <td>Ewwwwwwwwwwwwwww I just stepped on a snail.....</td>\n",
       "    </tr>\n",
       "    <tr>\n",
       "      <th>3</th>\n",
       "      <td>3</td>\n",
       "      <td>4</td>\n",
       "      <td>2191904836</td>\n",
       "      <td>Tue Jun 16 06:10:32 PDT 2009</td>\n",
       "      <td>NO_QUERY</td>\n",
       "      <td>Bhavnay</td>\n",
       "      <td>www.trainofpearls.wordpress.com been blogging ...</td>\n",
       "    </tr>\n",
       "    <tr>\n",
       "      <th>4</th>\n",
       "      <td>4</td>\n",
       "      <td>0</td>\n",
       "      <td>1794351602</td>\n",
       "      <td>Thu May 14 05:36:30 PDT 2009</td>\n",
       "      <td>NO_QUERY</td>\n",
       "      <td>Carlabrown19</td>\n",
       "      <td>First exam a week today-i have soooo much to l...</td>\n",
       "    </tr>\n",
       "  </tbody>\n",
       "</table>\n",
       "</div>"
      ],
      "text/plain": [
       "   Unnamed: 0  sentiment          id                          Date     Query  \\\n",
       "0           0          4  2063289082  Sun Jun 07 02:04:01 PDT 2009  NO_QUERY   \n",
       "1           1          4  1687530883  Sun May 03 08:56:33 PDT 2009  NO_QUERY   \n",
       "2           2          0  2296933721  Tue Jun 23 09:49:08 PDT 2009  NO_QUERY   \n",
       "3           3          4  2191904836  Tue Jun 16 06:10:32 PDT 2009  NO_QUERY   \n",
       "4           4          0  1794351602  Thu May 14 05:36:30 PDT 2009  NO_QUERY   \n",
       "\n",
       "           User                                               text  \n",
       "0    DeniseSD12        I'm home.   soo tired. NEED. SOME. REST. :|  \n",
       "1     LadyHhugs  My breakfast... Lowfat blueberry muffin.. Peac...  \n",
       "2       Akalyah   Ewwwwwwwwwwwwwww I just stepped on a snail.....   \n",
       "3       Bhavnay  www.trainofpearls.wordpress.com been blogging ...  \n",
       "4  Carlabrown19  First exam a week today-i have soooo much to l...  "
      ]
     },
     "execution_count": 39,
     "metadata": {},
     "output_type": "execute_result"
    }
   ],
   "source": [
    "Dataset=pd.read_csv(\"../input/dataset/dataset_.csv\") \n",
    "Dataset.head()"
   ]
  },
  {
   "cell_type": "code",
   "execution_count": 40,
   "metadata": {
    "execution": {
     "iopub.execute_input": "2021-05-21T11:33:41.526272Z",
     "iopub.status.busy": "2021-05-21T11:33:41.525961Z",
     "iopub.status.idle": "2021-05-21T11:33:41.531829Z",
     "shell.execute_reply": "2021-05-21T11:33:41.530524Z",
     "shell.execute_reply.started": "2021-05-21T11:33:41.526243Z"
    }
   },
   "outputs": [
    {
     "name": "stdout",
     "output_type": "stream",
     "text": [
      "(60000, 7)\n"
     ]
    }
   ],
   "source": [
    "#Printing dataset shape \n",
    "\n",
    "print(Dataset.shape)"
   ]
  },
  {
   "cell_type": "code",
   "execution_count": 41,
   "metadata": {
    "execution": {
     "iopub.execute_input": "2021-05-21T11:33:41.533942Z",
     "iopub.status.busy": "2021-05-21T11:33:41.533556Z",
     "iopub.status.idle": "2021-05-21T11:33:41.572188Z",
     "shell.execute_reply": "2021-05-21T11:33:41.570854Z",
     "shell.execute_reply.started": "2021-05-21T11:33:41.533908Z"
    }
   },
   "outputs": [
    {
     "name": "stdout",
     "output_type": "stream",
     "text": [
      "Unnamed: 0    0\n",
      "sentiment     0\n",
      "id            0\n",
      "Date          0\n",
      "Query         0\n",
      "User          0\n",
      "text          0\n",
      "dtype: int64\n"
     ]
    }
   ],
   "source": [
    "# Finding numnber of not defined values in each columns \n",
    "\n",
    "print(Dataset.isna().sum())"
   ]
  },
  {
   "cell_type": "code",
   "execution_count": 42,
   "metadata": {
    "execution": {
     "iopub.execute_input": "2021-05-21T11:33:41.574947Z",
     "iopub.status.busy": "2021-05-21T11:33:41.574412Z",
     "iopub.status.idle": "2021-05-21T11:33:41.591562Z",
     "shell.execute_reply": "2021-05-21T11:33:41.590489Z",
     "shell.execute_reply.started": "2021-05-21T11:33:41.574903Z"
    }
   },
   "outputs": [
    {
     "name": "stdout",
     "output_type": "stream",
     "text": [
      "4    30039\n",
      "0    29961\n",
      "Name: sentiment, dtype: int64\n",
      "1    30039\n",
      "0    29961\n",
      "Name: sentiment, dtype: int64\n"
     ]
    }
   ],
   "source": [
    "#Finding number of possitive and negative sentiments   \n",
    "# 4 represents possitive sentiments  \n",
    "# 0 represents negative sentiments  \n",
    "#Replacing 4 with pos and 0 with neg\n",
    "\n",
    "print(Dataset[\"sentiment\"].value_counts()) \n",
    "Dataset[\"sentiment\"]=Dataset[\"sentiment\"].replace([0,4],[0,1]) \n",
    "print(Dataset[\"sentiment\"].value_counts()) \n",
    "\n",
    "\n"
   ]
  },
  {
   "cell_type": "code",
   "execution_count": 43,
   "metadata": {
    "execution": {
     "iopub.execute_input": "2021-05-21T11:33:41.594689Z",
     "iopub.status.busy": "2021-05-21T11:33:41.594282Z",
     "iopub.status.idle": "2021-05-21T11:33:41.775139Z",
     "shell.execute_reply": "2021-05-21T11:33:41.773874Z",
     "shell.execute_reply.started": "2021-05-21T11:33:41.594654Z"
    }
   },
   "outputs": [
    {
     "data": {
      "image/png": "[encoded data removed]",
      "text/plain": [
       "<Figure size 576x576 with 1 Axes>"
      ]
     },
     "metadata": {},
     "output_type": "display_data"
    }
   ],
   "source": [
    "fig = plt.figure(figsize=(8,8))\n",
    "targets = Dataset.groupby('sentiment').size()\n",
    "targets.plot(kind='pie', subplots=True, figsize=(10, 8), autopct = \"%.2f%%\", colors=['red','green'])\n",
    "plt.title(\"Pie chart of different classes of tweets\",fontsize=16)\n",
    "plt.ylabel(\"\")\n",
    "plt.legend([\"Negative\",\"Possitive\"])\n",
    "plt.show()"
   ]
  },
  {
   "cell_type": "markdown",
   "metadata": {},
   "source": []
  },
  {
   "cell_type": "markdown",
   "metadata": {},
   "source": [
    "### Since the difference between possitive and negative tweets is less so our datset is balanced"
   ]
  },
  {
   "cell_type": "markdown",
   "metadata": {},
   "source": [
    "# Preprocessing Data  \n",
    "<ol> \n",
    "    <li>Casing: Coverting all tweets into similar case (lower case)</li> \n",
    "    <li>Noise Removal: Removing hyperlinks,mentions,hashtags from tweets</li> \n",
    "    <li>Tokenization: Tokenization is essentially splitting a phrase, sentence, paragraph, or an entire text document into smaller units, such as words or terms \n",
    "    <li>Stopwords Removal: Removing most common tweets (is,am,are,you,dont,the)</li> \n",
    "    <li>Text Normalisation: Lemmitization(It is the process of grouping together the different inflected forms of a word so they can be analysed as a single item) </li> "
   ]
  },
  {
   "cell_type": "code",
   "execution_count": 44,
   "metadata": {
    "execution": {
     "iopub.execute_input": "2021-05-21T11:33:41.777666Z",
     "iopub.status.busy": "2021-05-21T11:33:41.777352Z",
     "iopub.status.idle": "2021-05-21T11:33:41.789155Z",
     "shell.execute_reply": "2021-05-21T11:33:41.788306Z",
     "shell.execute_reply.started": "2021-05-21T11:33:41.777638Z"
    }
   },
   "outputs": [],
   "source": [
    "def Tokenize(text): \n",
    "    tk=TweetTokenizer() \n",
    "    tokenize_tweet=tk.tokenize(text) \n",
    "    return tokenize_tweet  \n",
    "\n",
    "\n",
    "def removePunctuators(tweet): \n",
    "    cleanTweets=[]  \n",
    "    \n",
    "    for word in tweet: \n",
    "        if(word not in string.punctuation): \n",
    "            cleanTweets.append(word) \n",
    "    \n",
    "    return cleanTweets  \n",
    "\n",
    "\n",
    "stopWords=set(stopwords.words('english')) \n",
    "\n",
    "def removeStopwords(tweet):  \n",
    "    \n",
    "    cleanTweets=[] \n",
    "    for word in tweet: \n",
    "        if(word not in stopWords): \n",
    "            cleanTweets.append(word) \n",
    "    \n",
    "    return cleanTweets \n",
    "\n",
    "\n",
    "def Lemmitizing(tweet): \n",
    "    \n",
    "    lemmatizer = WordNetLemmatizer()  \n",
    "    lemmTweets=[] \n",
    "    \n",
    "    for word in tweet: \n",
    "        lemmTweets.append(lemmatizer.lemmatize(word)) \n",
    "        \n",
    "    return lemmTweets\n",
    "\n",
    "def Preprocessing(text): \n",
    "    \n",
    "    #Convert tweet into Lowercase \n",
    "    text=text.lower()  \n",
    "    \n",
    "    #Removing old style retweet text RT \n",
    "    text=re.sub(r'^RT[\\s]+', '', text)\n",
    "    \n",
    "    #Removing all urls from tweet \n",
    "    text=re.sub(r'https?:\\/\\/.*[\\r\\n]*', '', text)\n",
    "    \n",
    "    #Removing all @mentions and Hashtag(#) from tweet\n",
    "    text=re.sub(r'\\@\\w+|\\#','',text)\n",
    "    \n",
    "    #Removing all Single Numeric terms from tweet \n",
    "    text=re.sub(r'[0-9]','',text)  \n",
    "    \n",
    "    #Tokenizing Tweet \n",
    "    tokenizeTweet=Tokenize(text) \n",
    "    \n",
    "    #Removing Punctuators \n",
    "    filteredTweet=removePunctuators(tokenizeTweet) \n",
    "    \n",
    "    #Removing Stopwords \n",
    "    cleanTweet=removeStopwords(filteredTweet) \n",
    "    \n",
    "    #Lemmitizing \n",
    "    lemmTweets=Lemmitizing(cleanTweet)\n",
    "    \n",
    "    return \" \".join(lemmTweets)\n"
   ]
  },
  {
   "cell_type": "code",
   "execution_count": 45,
   "metadata": {
    "execution": {
     "iopub.execute_input": "2021-05-21T11:33:41.790440Z",
     "iopub.status.busy": "2021-05-21T11:33:41.790159Z",
     "iopub.status.idle": "2021-05-21T11:33:41.810383Z",
     "shell.execute_reply": "2021-05-21T11:33:41.809504Z",
     "shell.execute_reply.started": "2021-05-21T11:33:41.790412Z"
    }
   },
   "outputs": [
    {
     "name": "stdout",
     "output_type": "stream",
     "text": [
      "Stats for the have arrived. 1 new follower and NO unfollowers :) via http://t.co/0s8GQYOeus.\n",
      "stats arrived new follower unfollowers :) via\n"
     ]
    }
   ],
   "source": [
    "#Checking Preprocessing function \n",
    "\n",
    "originalTweet=\"Stats for the have arrived. 1 new follower and NO unfollowers :) via http://t.co/0s8GQYOeus.\" \n",
    "\n",
    "print(originalTweet) \n",
    "\n",
    "cleanTweet=Preprocessing(originalTweet) \n",
    "\n",
    "print(cleanTweet)"
   ]
  },
  {
   "cell_type": "code",
   "execution_count": 46,
   "metadata": {
    "execution": {
     "iopub.execute_input": "2021-05-21T11:33:41.811731Z",
     "iopub.status.busy": "2021-05-21T11:33:41.811430Z",
     "iopub.status.idle": "2021-05-21T11:33:50.557232Z",
     "shell.execute_reply": "2021-05-21T11:33:50.556393Z",
     "shell.execute_reply.started": "2021-05-21T11:33:41.811702Z"
    }
   },
   "outputs": [
    {
     "name": "stdout",
     "output_type": "stream",
     "text": [
      "60000\n"
     ]
    }
   ],
   "source": [
    "#Using Preprocessing to get clean Tweets \n",
    "\n",
    "cleanTweets=[]  \n",
    "\n",
    "for tweet in Dataset['text']: \n",
    "    cleanTweets.append(Preprocessing(tweet))   \n",
    "\n",
    "print(len(cleanTweets))"
   ]
  },
  {
   "cell_type": "markdown",
   "metadata": {},
   "source": [
    "# Converting Data into Bag of Words \n",
    "The bag-of-words model is a simplifying representation used in natural language processing.In this model,a text (such as a sentence or a document) is represented as the bag (multiset) of its words, disregarding grammar and even word order but keeping multiplicity.   \n",
    "\n",
    "\n",
    "For Example,  \n",
    "<ol>\n",
    "<li> John likes to watch movies. Mary likes movies too.</li> \n",
    "<li> Mary also likes to watch football games.</li> \n",
    " </ol>   \n",
    " converts to \n",
    " <ol> \n",
    "    <li>[1, 2, 1, 1, 2, 1, 1, 0, 0, 0]</li> \n",
    "    <li>[0, 1, 1, 1, 0, 1, 0, 1, 1, 1]</li> \n",
    "    </ol>\n"
   ]
  },
  {
   "cell_type": "code",
   "execution_count": 47,
   "metadata": {
    "execution": {
     "iopub.execute_input": "2021-05-21T11:33:50.558981Z",
     "iopub.status.busy": "2021-05-21T11:33:50.558476Z",
     "iopub.status.idle": "2021-05-21T11:33:52.264864Z",
     "shell.execute_reply": "2021-05-21T11:33:52.264004Z",
     "shell.execute_reply.started": "2021-05-21T11:33:50.558932Z"
    }
   },
   "outputs": [],
   "source": [
    "vectorizer = CountVectorizer(max_features=5500) \n",
    "\n",
    "bow_vector = vectorizer.fit_transform(cleanTweets) \n",
    "\n",
    "bow_vector=bow_vector.toarray()  "
   ]
  },
  {
   "cell_type": "code",
   "execution_count": 48,
   "metadata": {
    "execution": {
     "iopub.execute_input": "2021-05-21T11:33:52.266647Z",
     "iopub.status.busy": "2021-05-21T11:33:52.266141Z",
     "iopub.status.idle": "2021-05-21T11:33:52.311685Z",
     "shell.execute_reply": "2021-05-21T11:33:52.310759Z",
     "shell.execute_reply.started": "2021-05-21T11:33:52.266601Z"
    }
   },
   "outputs": [],
   "source": [
    "# Saving vectorizer object to vectorize live tweets \n",
    "vec_file = 'vectorizer.sav'\n",
    "pickle.dump(vectorizer, open(vec_file, 'wb'))"
   ]
  },
  {
   "cell_type": "code",
   "execution_count": 49,
   "metadata": {
    "execution": {
     "iopub.execute_input": "2021-05-21T11:33:52.313607Z",
     "iopub.status.busy": "2021-05-21T11:33:52.313248Z",
     "iopub.status.idle": "2021-05-21T11:33:52.323368Z",
     "shell.execute_reply": "2021-05-21T11:33:52.322575Z",
     "shell.execute_reply.started": "2021-05-21T11:33:52.313568Z"
    }
   },
   "outputs": [
    {
     "name": "stdout",
     "output_type": "stream",
     "text": [
      "[[0 0 0 ... 0 0 0]\n",
      " [0 0 0 ... 0 0 0]\n",
      " [0 0 0 ... 0 0 0]\n",
      " ...\n",
      " [0 0 0 ... 0 0 0]\n",
      " [0 0 0 ... 0 0 0]\n",
      " [0 0 0 ... 0 0 0]]\n"
     ]
    }
   ],
   "source": [
    "print(bow_vector)"
   ]
  },
  {
   "cell_type": "markdown",
   "metadata": {},
   "source": [
    "# TF-IDF   \n",
    "## TF(Term Frequency)   \n",
    "\n",
    "The first computes the normalized Term Frequency (TF), aka. the number of times a word appears in a document, divided by the total number of words in that document. The Term Frequency is calculated as:  \n",
    "\n",
    "<img src=\"https://static.wixstatic.com/media/1cd646_c1da199132f74052a5a6db1fc4cd3a29~mv2.png/v1/fill/w_1000,h_145,al_c,usm_0.66_1.00_0.01/1cd646_c1da199132f74052a5a6db1fc4cd3a29~mv2.png\">\n",
    "\n",
    "## IDF(Inverse Document Frequency) \n",
    "\n",
    "The second term is the Inverse Document Frequency (IDF), computed as the logarithm of the number of the documents in the corpus divided by the number of documents where the specific term appears. The IDF is calulated as: \n",
    "\n",
    "\n",
    "  <img src=\"https://learn.g2.com/hubfs/G2%20-%20TF-IDF%20Explained-1.png\">\n",
    "\n",
    " "
   ]
  },
  {
   "cell_type": "code",
   "execution_count": 50,
   "metadata": {
    "execution": {
     "iopub.execute_input": "2021-05-21T11:33:52.325264Z",
     "iopub.status.busy": "2021-05-21T11:33:52.324930Z",
     "iopub.status.idle": "2021-05-21T11:33:59.166322Z",
     "shell.execute_reply": "2021-05-21T11:33:59.165223Z",
     "shell.execute_reply.started": "2021-05-21T11:33:52.325232Z"
    }
   },
   "outputs": [],
   "source": [
    "#Applying Tf-Idf vectorizer \n",
    "\n",
    "transformer = TfidfTransformer().fit(bow_vector)\n",
    "\n",
    "tf_idf_vector = transformer.transform(bow_vector)  \n"
   ]
  },
  {
   "cell_type": "markdown",
   "metadata": {},
   "source": [
    "# Splitting Dataset into Training and Test "
   ]
  },
  {
   "cell_type": "code",
   "execution_count": 51,
   "metadata": {
    "execution": {
     "iopub.execute_input": "2021-05-21T11:33:59.168312Z",
     "iopub.status.busy": "2021-05-21T11:33:59.167988Z",
     "iopub.status.idle": "2021-05-21T11:33:59.187648Z",
     "shell.execute_reply": "2021-05-21T11:33:59.186588Z",
     "shell.execute_reply.started": "2021-05-21T11:33:59.168280Z"
    }
   },
   "outputs": [
    {
     "name": "stdout",
     "output_type": "stream",
     "text": [
      "(51000, 5500) (51000,)\n",
      "(9000, 5500) (9000,)\n"
     ]
    }
   ],
   "source": [
    "X_train, X_test, y_train, y_test = train_test_split(tf_idf_vector, Dataset['sentiment'], test_size=0.15, random_state=69) \n",
    "print(X_train.shape,y_train.shape) \n",
    "print(X_test.shape,y_test.shape)"
   ]
  },
  {
   "cell_type": "markdown",
   "metadata": {},
   "source": [
    "# Models for Prediction  \n",
    "<ol>  \n",
    "    <li><h3> Mutinomial Naive Bayes</h3></li>  \n",
    "    <li><h3> Complement Naive Bayes</h3></li> \n",
    "    <li><h3> Bernoulli Naive Bayes</h3></li>\n",
    "    <li><h3>Logistic Regression</h3></li> \n",
    "    </ol>"
   ]
  },
  {
   "cell_type": "markdown",
   "metadata": {},
   "source": [
    "# Mutinomial Naive Bayes "
   ]
  },
  {
   "cell_type": "code",
   "execution_count": 52,
   "metadata": {
    "execution": {
     "iopub.execute_input": "2021-05-21T11:33:59.189586Z",
     "iopub.status.busy": "2021-05-21T11:33:59.189190Z",
     "iopub.status.idle": "2021-05-21T11:33:59.226116Z",
     "shell.execute_reply": "2021-05-21T11:33:59.224950Z",
     "shell.execute_reply.started": "2021-05-21T11:33:59.189525Z"
    }
   },
   "outputs": [
    {
     "name": "stdout",
     "output_type": "stream",
     "text": [
      "Accuracy: 73.07777777777777\n",
      "[[3311 1099]\n",
      " [1324 3266]]\n"
     ]
    }
   ],
   "source": [
    "#Naive Bayes Model training \n",
    "\n",
    "MNB_model=MultinomialNB() \n",
    "MNB_model.fit(X_train,y_train)  \n",
    "\n",
    "\n",
    "#Prediction using Naive Bayes\n",
    "predicted=MNB_model.predict(X_test) \n",
    "\n",
    "#Accurcy and Confusion Matrix\n",
    "cf_matrix=(confusion_matrix(y_test, predicted))  \n",
    "print(\"Accuracy:\",metrics.accuracy_score(y_test, predicted)*100) \n",
    "print(cf_matrix)"
   ]
  },
  {
   "cell_type": "code",
   "execution_count": 53,
   "metadata": {
    "execution": {
     "iopub.execute_input": "2021-05-21T11:33:59.227976Z",
     "iopub.status.busy": "2021-05-21T11:33:59.227661Z",
     "iopub.status.idle": "2021-05-21T11:33:59.483608Z",
     "shell.execute_reply": "2021-05-21T11:33:59.482817Z",
     "shell.execute_reply.started": "2021-05-21T11:33:59.227944Z"
    }
   },
   "outputs": [
    {
     "data": {
      "image/png": "[encoded data removed]",
      "text/plain": [
       "<Figure size 432x288 with 2 Axes>"
      ]
     },
     "metadata": {
      "needs_background": "light"
     },
     "output_type": "display_data"
    }
   ],
   "source": [
    "#Printing Confusion Matrix of prediction \n",
    "\n",
    "sns.heatmap(cf_matrix, annot=True) \n",
    "plt.show()"
   ]
  },
  {
   "cell_type": "markdown",
   "metadata": {},
   "source": [
    "# Complement NB"
   ]
  },
  {
   "cell_type": "code",
   "execution_count": 54,
   "metadata": {
    "execution": {
     "iopub.execute_input": "2021-05-21T11:33:59.486768Z",
     "iopub.status.busy": "2021-05-21T11:33:59.486280Z",
     "iopub.status.idle": "2021-05-21T11:33:59.522707Z",
     "shell.execute_reply": "2021-05-21T11:33:59.521571Z",
     "shell.execute_reply.started": "2021-05-21T11:33:59.486720Z"
    }
   },
   "outputs": [
    {
     "name": "stdout",
     "output_type": "stream",
     "text": [
      "Accuracy: 73.08888888888889\n",
      "[[3303 1107]\n",
      " [1315 3275]]\n"
     ]
    }
   ],
   "source": [
    "CNB=ComplementNB()  \n",
    "CNB.fit(X_train,y_train) \n",
    "\n",
    "predicted=CNB.predict(X_test)  \n",
    "\n",
    "cf_matrix=(confusion_matrix(y_test, predicted))  \n",
    "print(\"Accuracy:\",metrics.accuracy_score(y_test, predicted)*100) \n",
    "print(cf_matrix) \n"
   ]
  },
  {
   "cell_type": "code",
   "execution_count": 55,
   "metadata": {
    "execution": {
     "iopub.execute_input": "2021-05-21T11:33:59.524944Z",
     "iopub.status.busy": "2021-05-21T11:33:59.524610Z",
     "iopub.status.idle": "2021-05-21T11:33:59.773019Z",
     "shell.execute_reply": "2021-05-21T11:33:59.771996Z",
     "shell.execute_reply.started": "2021-05-21T11:33:59.524910Z"
    }
   },
   "outputs": [
    {
     "data": {
      "image/png": "[encoded data removed]",
      "text/plain": [
       "<Figure size 432x288 with 2 Axes>"
      ]
     },
     "metadata": {
      "needs_background": "light"
     },
     "output_type": "display_data"
    }
   ],
   "source": [
    "#Printing Confusion Matrix of prediction \n",
    "sns.heatmap(cf_matrix, annot=True) \n",
    "plt.show()"
   ]
  },
  {
   "cell_type": "markdown",
   "metadata": {},
   "source": [
    "# Bernoulli Naive Bayes"
   ]
  },
  {
   "cell_type": "code",
   "execution_count": 56,
   "metadata": {
    "execution": {
     "iopub.execute_input": "2021-05-21T11:33:59.774826Z",
     "iopub.status.busy": "2021-05-21T11:33:59.774496Z",
     "iopub.status.idle": "2021-05-21T11:33:59.812136Z",
     "shell.execute_reply": "2021-05-21T11:33:59.810980Z",
     "shell.execute_reply.started": "2021-05-21T11:33:59.774793Z"
    }
   },
   "outputs": [
    {
     "name": "stdout",
     "output_type": "stream",
     "text": [
      "Accuracy: 73.08888888888889\n",
      "[[3303 1107]\n",
      " [1315 3275]]\n"
     ]
    }
   ],
   "source": [
    "BNB=ComplementNB()  \n",
    "BNB.fit(X_train,y_train) \n",
    "\n",
    "predicted=BNB.predict(X_test)  \n",
    "\n",
    "cf_matrix=(confusion_matrix(y_test, predicted))  \n",
    "print(\"Accuracy:\",metrics.accuracy_score(y_test, predicted)*100) \n",
    "print(cf_matrix) "
   ]
  },
  {
   "cell_type": "code",
   "execution_count": 57,
   "metadata": {
    "execution": {
     "iopub.execute_input": "2021-05-21T11:33:59.814363Z",
     "iopub.status.busy": "2021-05-21T11:33:59.813945Z",
     "iopub.status.idle": "2021-05-21T11:34:00.060022Z",
     "shell.execute_reply": "2021-05-21T11:34:00.059035Z",
     "shell.execute_reply.started": "2021-05-21T11:33:59.814314Z"
    }
   },
   "outputs": [
    {
     "data": {
      "image/png": "[encoded data removed]",
      "text/plain": [
       "<Figure size 432x288 with 2 Axes>"
      ]
     },
     "metadata": {
      "needs_background": "light"
     },
     "output_type": "display_data"
    }
   ],
   "source": [
    "#Printing Confusion Matrix of prediction \n",
    "sns.heatmap(cf_matrix, annot=True) \n",
    "plt.show()"
   ]
  },
  {
   "cell_type": "markdown",
   "metadata": {},
   "source": [
    "# Logistic Regression"
   ]
  },
  {
   "cell_type": "code",
   "execution_count": 58,
   "metadata": {
    "execution": {
     "iopub.execute_input": "2021-05-21T11:34:00.061522Z",
     "iopub.status.busy": "2021-05-21T11:34:00.061226Z",
     "iopub.status.idle": "2021-05-21T11:34:00.495583Z",
     "shell.execute_reply": "2021-05-21T11:34:00.494316Z",
     "shell.execute_reply.started": "2021-05-21T11:34:00.061493Z"
    }
   },
   "outputs": [
    {
     "name": "stdout",
     "output_type": "stream",
     "text": [
      "Accuracy: 75.12222222222222\n",
      "[[3198 1212]\n",
      " [1027 3563]]\n"
     ]
    }
   ],
   "source": [
    "#Logistic Regression model training   \n",
    "\n",
    "LR_model = LogisticRegression(random_state=0,solver='lbfgs')   \n",
    "LR_model.fit(X_train,y_train) \n",
    " \n",
    "#Prediction using Logisitc Regression Model  \n",
    "\n",
    "predicted = LR_model.predict(X_test) \n",
    "\n",
    "\n",
    "#Calculating Acuuracy and Confusion Matrix\n",
    "print(\"Accuracy:\",metrics.accuracy_score(y_test, predicted)*100)  \n",
    "\n",
    "cf_matrix=(confusion_matrix(y_test, predicted))  \n",
    "\n",
    "print(cf_matrix)\n",
    "\n",
    "\n",
    "\n",
    "\n"
   ]
  },
  {
   "cell_type": "code",
   "execution_count": 59,
   "metadata": {
    "execution": {
     "iopub.execute_input": "2021-05-21T11:34:00.497328Z",
     "iopub.status.busy": "2021-05-21T11:34:00.497023Z",
     "iopub.status.idle": "2021-05-21T11:34:00.715729Z",
     "shell.execute_reply": "2021-05-21T11:34:00.714952Z",
     "shell.execute_reply.started": "2021-05-21T11:34:00.497299Z"
    }
   },
   "outputs": [
    {
     "data": {
      "image/png": "[encoded data removed]",
      "text/plain": [
       "<Figure size 432x288 with 2 Axes>"
      ]
     },
     "metadata": {
      "needs_background": "light"
     },
     "output_type": "display_data"
    }
   ],
   "source": [
    "sns.heatmap(cf_matrix, annot=True) \n",
    "plt.show()"
   ]
  },
  {
   "cell_type": "markdown",
   "metadata": {},
   "source": [
    "# Voting Classifier  \n",
    "A Voting Classifier is a machine learning model that trains on an ensemble of numerous models and predicts an output (class) based on their highest probability of chosen class as the output.\n",
    "It simply aggregates the findings of each classifier passed into Voting Classifier and predicts the output class based on the highest majority of voting,"
   ]
  },
  {
   "cell_type": "code",
   "execution_count": 60,
   "metadata": {
    "execution": {
     "iopub.execute_input": "2021-05-21T11:34:00.717316Z",
     "iopub.status.busy": "2021-05-21T11:34:00.716893Z",
     "iopub.status.idle": "2021-05-21T11:34:01.189975Z",
     "shell.execute_reply": "2021-05-21T11:34:01.189002Z",
     "shell.execute_reply.started": "2021-05-21T11:34:00.717271Z"
    }
   },
   "outputs": [
    {
     "name": "stdout",
     "output_type": "stream",
     "text": [
      "Accuracy: 74.84444444444445\n",
      "[[3241 1169]\n",
      " [1095 3495]]\n"
     ]
    }
   ],
   "source": [
    "#Making list of all Models  \n",
    "\n",
    "from sklearn.naive_bayes import ComplementNB \n",
    "from sklearn.naive_bayes import BernoulliNB\n",
    "\n",
    "estimator=[] \n",
    "estimator.append((\"MNB\",MultinomialNB())) \n",
    "estimator.append((\"LR\",LogisticRegression(random_state=0,solver='lbfgs')))\n",
    "estimator.append((\"BNB\",BernoulliNB())) \n",
    "estimator.append((\"CNB\",ComplementNB()))\n",
    "\n",
    "\n",
    "from sklearn.ensemble import VotingClassifier \n",
    "\n",
    "Voting_model= VotingClassifier(estimators = estimator, voting ='soft')\n",
    "Voting_model.fit(X_train, y_train) \n",
    "\n",
    "\n",
    "\n",
    "predicted = Voting_model.predict(X_test)  \n",
    "\n",
    "\n",
    "print(\"Accuracy:\",metrics.accuracy_score(y_test, predicted)*100)  \n",
    "\n",
    "cf_matrix=(confusion_matrix(y_test, predicted))   \n",
    "\n",
    "print(cf_matrix) \n",
    "\n",
    "\n",
    "  "
   ]
  },
  {
   "cell_type": "code",
   "execution_count": 61,
   "metadata": {
    "execution": {
     "iopub.execute_input": "2021-05-21T11:34:01.191517Z",
     "iopub.status.busy": "2021-05-21T11:34:01.191225Z",
     "iopub.status.idle": "2021-05-21T11:34:01.400194Z",
     "shell.execute_reply": "2021-05-21T11:34:01.399274Z",
     "shell.execute_reply.started": "2021-05-21T11:34:01.191488Z"
    }
   },
   "outputs": [
    {
     "data": {
      "image/png": "[encoded data removed]",
      "text/plain": [
       "<Figure size 432x288 with 2 Axes>"
      ]
     },
     "metadata": {
      "needs_background": "light"
     },
     "output_type": "display_data"
    }
   ],
   "source": [
    "#Plotting Confuison Matrix \n",
    "\n",
    "sns.heatmap(cf_matrix, annot=True) \n",
    "plt.show()"
   ]
  },
  {
   "cell_type": "code",
   "execution_count": 62,
   "metadata": {
    "execution": {
     "iopub.execute_input": "2021-05-21T11:34:01.401720Z",
     "iopub.status.busy": "2021-05-21T11:34:01.401417Z",
     "iopub.status.idle": "2021-05-21T11:34:01.415420Z",
     "shell.execute_reply": "2021-05-21T11:34:01.414458Z",
     "shell.execute_reply.started": "2021-05-21T11:34:01.401690Z"
    }
   },
   "outputs": [
    {
     "name": "stdout",
     "output_type": "stream",
     "text": [
      "[1]\n",
      "[0]\n",
      "[0]\n",
      "[1]\n",
      "[0]\n",
      "[0]\n",
      "[1]\n",
      "[1]\n"
     ]
    }
   ],
   "source": [
    "#Now lets try some example to predict  \n",
    "\n",
    "test_Tweets=[\"Very happy by @JustinTreadeau decision to give candaian citizen to international students\", \n",
    "             \"The GST of 15% on electronics item is quiet high government have to do some thing\", \n",
    "             \"There is no ventilators left in Delhi the Delhi government and Central have to do some thing #Covid19 #lockdown\", \n",
    "             \"Impressed by the @RameshPokhriyal decision of new education policy #PadegaIndia\", \n",
    "             \"The current situation of Isarel and palestine is sad hoping for the good #IsarelvsPalestine\", \n",
    "             \"@BillGates get divorced with his wife\", \n",
    "             \"Happy after getting profit from investing in dogecoin crypto currency #dogecoin #Cryptocurrency\", \n",
    "             \"Great to see @VitalikButerin co-founder of etherum become a billonaire at the age of 27\"\n",
    "            ]  \n",
    "\n",
    "for tweets in test_Tweets: \n",
    "    tweets = Preprocessing(tweets)\n",
    "    vectorized_sentence = vectorizer.transform([tweets]).toarray()\n",
    "    print(LR_model.predict(vectorized_sentence))"
   ]
  },
  {
   "cell_type": "markdown",
   "metadata": {},
   "source": [
    "## Saving Model using Pickle "
   ]
  },
  {
   "cell_type": "code",
   "execution_count": 63,
   "metadata": {
    "execution": {
     "iopub.execute_input": "2021-05-21T11:34:01.417021Z",
     "iopub.status.busy": "2021-05-21T11:34:01.416725Z",
     "iopub.status.idle": "2021-05-21T11:34:02.190298Z",
     "shell.execute_reply": "2021-05-21T11:34:02.189193Z",
     "shell.execute_reply.started": "2021-05-21T11:34:01.416992Z"
    }
   },
   "outputs": [],
   "source": [
    "#Since logisitic regression has greater accuracy than any other model so we will saving linear regression model  \n",
    "\n",
    "LR_model = LogisticRegression(random_state=0,solver='lbfgs')   \n",
    "LR_model.fit(X_train,y_train)  \n",
    "\n",
    "buffer=open(\"Model.sav\",'wb')  \n",
    "\n",
    "pickle.dump(LR_model,buffer)\n",
    "\n",
    "buffer.close()  "
   ]
  },
  {
   "cell_type": "code",
   "execution_count": 64,
   "metadata": {
    "execution": {
     "iopub.execute_input": "2021-05-21T11:34:02.192283Z",
     "iopub.status.busy": "2021-05-21T11:34:02.191860Z",
     "iopub.status.idle": "2021-05-21T11:34:02.208104Z",
     "shell.execute_reply": "2021-05-21T11:34:02.206723Z",
     "shell.execute_reply.started": "2021-05-21T11:34:02.192239Z"
    }
   },
   "outputs": [
    {
     "name": "stdout",
     "output_type": "stream",
     "text": [
      "[1]\n",
      "[0]\n",
      "[0]\n",
      "[1]\n",
      "[0]\n",
      "[0]\n",
      "[1]\n",
      "[1]\n"
     ]
    }
   ],
   "source": [
    "buffer=open(\"Model.sav\",'rb')\n",
    "Voting_model=pickle.load(buffer) \n",
    "buffer.close()\n",
    "\n",
    "for tweets in test_Tweets: \n",
    "    tweets = Preprocessing(tweets)\n",
    "    vectorized_sentence = vectorizer.transform([tweets]).toarray()\n",
    "    print(Voting_model.predict(vectorized_sentence))"
   ]
  }
 ],
 "metadata": {
  "kernelspec": {
   "display_name": "Python 3",
   "language": "python",
   "name": "python3"
  },
  "language_info": {
   "codemirror_mode": {
    "name": "ipython",
    "version": 3
   },
   "file_extension": ".py",
   "mimetype": "text/x-python",
   "name": "python",
   "nbconvert_exporter": "python",
   "pygments_lexer": "ipython3",
   "version": "3.8.5"
  }
 },
 "nbformat": 4,
 "nbformat_minor": 4
}
